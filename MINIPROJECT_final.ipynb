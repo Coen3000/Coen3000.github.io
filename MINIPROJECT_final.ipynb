{
 "cells": [
  {
   "cell_type": "markdown",
   "metadata": {},
   "source": [
    "# Data Science Miniproject\n",
    "\n",
    "<img align=\"left\" src='http://coen3000.github.io/peter_selfie.png' width=\"300\" height=\"150\"/>\n",
    "<img align=\"center\" src='http://coen3000.github.io/anh_selfie.png' width=\"300\" height=\"150\"/>\n",
    "<img align=\"left\" src='http://coen3000.github.io/larissa_selfie.jpg' width=\"300\"/>\n",
    "<img align=\"center\" src='http://coen3000.github.io/CIselfie.jpg' width=\"300\"/>  \n",
    "\n",
    "## Notebook made by \n",
    "|** Name** | **Student id** | **email**|\n",
    "|:- |:-|:-|\n",
    "|Peter Konieczek|10796525|peterkonieczek@gmail.com|\n",
    "|Anh Nguyen|10771301|anh_nguyen@live.nl|\n",
    "|Larissa Regina|10515216| larissaregina03@gmail.com|\n",
    "|Coen Welling|10673156|coenwelling@hotmail.com| \n",
    " \n",
    "### Pledge (taken from [Coursera's Honor Code](https://www.coursera.org/about/terms/honorcode) )\n",
    "\n",
    "\n",
    "\n",
    "Put here a selfie with your photo where you hold a signed paper with the following text: (if this is team work, put two selfies here). The link must be to some place on the web, not to a local file. \n",
    "\n",
    "> My answers to homework, quizzes and exams will be my own work (except for assignments that explicitly permit collaboration).\n",
    "\n",
    ">I will not make solutions to homework, quizzes or exams available to anyone else. This includes both solutions written by me, as well as any official solutions provided by the course staff.\n",
    "\n",
    ">I will not engage in any other activities that will dishonestly improve my results or dishonestly improve/hurt the results of others.\n",
    "\n",
    "### Note\n",
    "* **Assignments without the selfies or completely filled in information will not be graded and receive 0 points.**\n"
   ]
  },
  {
   "cell_type": "markdown",
   "metadata": {},
   "source": [
    "# Woordgebruik in de Tweede Kamer\n",
    "#### *Man-vrouw verhoudingen in de politiek*\n",
    "<img src='https://content.maltatoday.com.mt/ui_frontend/thumbnail/684/0/parliament_marlene_godfrey_farrugia.jpeg' width=\"500\"/>"
   ]
  },
  {
   "cell_type": "markdown",
   "metadata": {},
   "source": [
    "## Abstract\n",
    "Dit project zal de vertegenwoordiging van vrouwen in de Tweede Kamer controleren. Om dit te controleren zal ten eerste inhoudelijk worden gekeken naar het aantal woorden en daarnaast ook het soort woorden dat gesproken worden door politici. Ten slotte wordt gekeken in welke mate mannen en vrouwen daarin onderling verschillen. Data van de overheid.nl is gebruikt om deze relaties tussen in kaart te brengen. Hierbij wordt gekeken naar alle sprekers in de Nederlandse Tweede Kamer van 2012 tot 2016.  \n",
    "**!!conclusie!!**\n"
   ]
  },
  {
   "cell_type": "markdown",
   "metadata": {},
   "source": [
    "## Introductie\n",
    "‘Het aantal vrouwen in de politiek stagneert’, luidt een kopstuk van  <a href=\"https://www.binnenlandsbestuur.nl/ambtenaar-en-carriere/nieuws/aantal-vrouwen-in-politiek-stagneert.9479021.lynkx\">Walstra (2015)</a>, waarin zij meldt dat de teller van het aantal vertegenwoordigende vrouwen in de tweede kamer in 2015 is gedaald met drie procent. Bijna 100 jaar lang vertegenwoordigen vrouwen politieke partijen in de Nederlandse tweede kamer. Waar zij begonnen met een vertegenwoordiging van 0,5%, staat de teller nu op 34%. Het mag duidelijk zijn daarmee de verhouding in de politiek nog niet evenredig staat naast het aantal mannen wat momenteel de partijen vertegenwoordigen.   \n",
    "\n",
    "<br>Dit project zal de vertegenwoordiging van vrouwen in de Tweede Kamer controleren. <a href=\"http://science.sciencemag.org/content/sci/suppl/2007/07/03/317.5834.82.DC1/Mehl.SOM.pdf\">Mehl et al., (2007)</a> stelt dat het aantal woorden gebruikt door mannen en vrouwen in het algemeen niet significant verschilt [3]. Om dit te controleren zal ten eerste inhoudelijk worden gekeken naar het aantal woorden en daarnaast ook het soort woorden dat gesproken worden door politici. Ten slotte wordt gekeken in welke mate mannen en vrouwen daarin onderling verschillen. Hierbij wordt gekeken naar de Nederlandse politiek.  \n",
    "\n",
    "<br>Data van de overheid.nl is gebruikt om relaties tussen woordenschat, spreektijd en stopwoorden in kaart te brengen. Verder informatie over de data is uitgewerkt De onderzoeksvraag luidt:  \n",
    "<br><center>** *In hoeverre verschillen mannen en vrouwen in woordgebruik binnen de Nederlandse politiek?* **</center>  \n",
    "\n",
    "De volgende deelvragen zijn opgesteld om te helpen bij het antwoorden van de onderzoeksvraag:  \n",
    "<br><center>*In hoeverre is er een significant verschil in spreektijd tussen mannen en vrouwen?*   \n",
    "*In hoeverre is er een significant verschil in het soort woorden tussen mannen en vrouwen?*    \n",
    "</center>  \n",
    "\n",
    "Hierbij wordt gekeken naar alle sprekers in de Nederlandse Tweede Kamer van 2012 tot 2016. Spreektijd is uitgedrukt in het totaal aantal woorden dat politici gesproken hebben. Het soort woorden is uitgedrukt in aantal unieke woorden of woordenschat. Stopwoorden zijn uitgedrukt als de meest voorkomende woorden van het totaal aantal woorden waarbij gefilterd is op basale stop- en lidwoorden. \n"
   ]
  },
  {
   "cell_type": "markdown",
   "metadata": {},
   "source": [
    "## Related Work\n",
    "**Vrouwen vertegenwoordiging Tweede Kamer**  \n",
    "In Nederland werd pas in 1917 de vrouwenkiesrecht passief geïmplementeerd<a href=\"https://www.atria.nl/nl/publicatie/vrouwenkiesrecht-nederland\">[6]</a>. Met passief wordt bedoeld dat vrouwen voor politieke functies gekozen mochten worden, maar mochten toch niet zelf stemmen. Dit was pas in 1919 mogelijk. De jaren hiervoor bestond de kamer enkel uit mannen, wat een logische verklaring is waarom vrouwen nog steeds in de minderheid zijn in de Tweede Kamer.    \n",
    "\n",
    "Volgens de officiële website van het Parlement bestaan de Tweede Kamerleden anno 2018 uit 51 vrouwelijke en 99 mannelijke leden <a href=\"https://www.parlement.com/id/vh8lnhrre0zv/vrouwen_in_de_tweede_kamer \">(PDC, 2018)[5]</a>. Dit is 34% van de leden in de Tweede Kamer. Vergeleken met 25 jaar geleden is dit percentage flink toegenomen. Echter is het nogal merkwaardig dat in de laatste 3 Tweede Kamerverkiezingen (2010-2017) dit percentage met vier procent is afgenomen.  \n",
    "\n",
    "**Spraakzaamheid  vrouwen vs. mannen (aantal woorden)**  \n",
    "In de onderzoek van <a href=\"http://science.sciencemag.org/content/sci/suppl/2007/07/03/317.5834.82.DC1/Mehl.SOM.pdf\">Mehl et al., (2007)[3]</a> wordt getest hoe groot het verschil in spraakzaamheid is tussen mannen en vrouwen over het algemeen. Hier hebben ze verschillende samples genomen van studenten in verschillende universiteiten. In totaal waren het bijna 400 participanten. Sommige waren koppels die 6 maanden of langer samen waren en de rest studenten die Psychologie opleidingen volgden. Participanten kregen allemaal een apparaat om hun dagelijks leven in willekeurige intervallen op te nemen. Eerst werden de gemiddelde aantal woorden voor elke participant per interval genomen. Vervolgens de gemiddelde aantal woorden per dag. Als resultaat kregen ze een gemiddelde van 15,958 woorden per dag voor alle participanten. En dat de aantallen tussen mannen en vrouwen niet significant verschillen. Weliswaar waren de top 3 meest spraakzame mensen mannen, maar in de top 17% spraakzame mensen was de verdeling weer gelijk. Daarom gaan wij ervan uit dat in het dagelijkse leven vrouwen evenveel woorden gebruiken als mannen.  \n",
    "\n",
    "Uit een studie van <a href=\"https://evajinek.kro-ncrv.nl/artikelen/deze-kamerleden-zijn-heel-actief-en-deze-leunen-vooral-achterover \">Jinek E. (2017)[2]</a> werd gebruik gemaakt van de data van Tweedekamer.nl om een visualisatie te krijgen van Tweede Kamerleden die de meeste vragen stellen. Uit dit onderzoek waren 40% van de top 20 door-vragers vrouwen. Vragen stellen kan ook gezien worden als actief deelname in de Tweede Kamer.  \n",
    "\n",
    "**Standpunten vrouwen in de Tweede Kamer (soort woorden)**  \n",
    "In het soort woorden dat mannen en vrouwen gebruiken zijn volgens <a href=\"https://onlinelibrary.wiley.com/doi/full/10.1111/j.1468-2958.2001.tb00778.x\">Mulac et al., (2007)[4]</a> de volgende verschillen terug te vinden: Mannen gebruiken typisch meer referenties naar hoeveelheden,  gebruiken veroordelende woorden (bijvoorbeeld ‘goed’ of ‘dom’), instructies (“schrijf dat op”) en referenties naar zichzelf. Vrouwen refereren meer naar emoties, gebruiken meer intensieve bijwoorden (bijvoorbeeld “heel erg” i.p.v. ‘erg’), onzekerheden (bijvoorbeeld ‘lijkt’ en ‘misschien’) en  ontkenningen.\n",
    "\n",
    "\n",
    "\n"
   ]
  },
  {
   "cell_type": "markdown",
   "metadata": {},
   "source": [
    "## Methodologie\n",
    "\n",
    "*Hoe is de data verzameld, en hoe heb jij die data verkregen?*  \n",
    "Data van handelingen binnen de Tweede Kamer is verzameld van de officiële website van de Nederlandse overheid. Hierbij zijn alle debatten genotuleerd en in xml bestanden opgeslagen. Een selectie is gemaakt waarbij data van 2012 tot 2016 verkregen is voor verdere analyse.  \n",
    "\n",
    "*Wat staat er in de data? Niet alleen maar een technisch verhaal, maar ook inhoudelijk. De lezer moet een goed idee krijgen over de technische inhoud en wat het betekent.*  \n",
    "De bestanden zijn per debat gestructureerd in verschillende segmenten. Zo staat ‘1-1’ in het bestand ‘h-tk-20122013-1-1’ voor het eerste debat waarbij de aanwezigen genotuleerd zijn, en bevat het hierop volgende deel ‘1-2’ de mededelingen.\n",
    "Binnen deze bestanden zijn met de xml boomstructuur  (xml-tags) elementen gemarkeerd en is het mogelijk om bepaalde data op te halen, bijvoorbeeld spreker, politieke partij, onderwerp,  geslacht en gesproken tekst.\n",
    "\n",
    "*Hoe je je vraag gaat beantwoorden.*  \n",
    "Alle bestanden zijn gedownload en geparsed met behulp van LXML. Uit de geparsede bestanden hebben we de spreker gehaald, met de daarbij horende variabelen: geslacht, partij en alle gesproken tekst. Van de sprekers hebben we alleen de sprekers die als rol \"De heer\" of \"Mevrouw\" hadden in de data gebruikt, dus de ministers en voorzitters hebben we eruit gefilterd. Alle waardes hebben we in een tijdelijke lijst gestopt. Van de waardes uit deze lijst hebben we een data frame gebouwd. Dit resulteerde in een data frame met alle unieke sprekers als index, en de partij, het geslacht en de gesproken tekst als waardes.  \n",
    "\n",
    "<img src=\"http://coen3000.github.io/grouping.png\" width=\"900\">\n",
    "\n",
    "<br>Alle gesproken tekst van de kamerleden werden vervolgens getokenized. Alle tekst werden losse woorden. Deze woorden werden daarna opgeschoond: alle hoofdletters werden omgezet in kleine letters en de overbodige leestekens werden weggehaald. Ook woorden korter dan 3 letters werden weggefilterd (lidwoorden).  \n",
    "\n",
    "Alle woorden per spreker werden daarna geteld, en dit hebben we gebruikt voor het maken van een andere dataframe die we hebben gebruikt voor het visualiseren van de resultaten. De dataframe bevat een counter van alle woorden, de twintig meest gebruikelijke woorden per spreker, alle woorden, het aantal unieke woorden, en het aantal woorden.  \n",
    "\n",
    "Deze dataframe is gemerged met de dataframe met de spreker, partij, rol en tekst. Dat resulteerde in de volgende dataframe, waarop we een groot deel van onze resultaten hebben gebaseerd:\n",
    "\n",
    "\n",
    "<img src=\"http://coen3000.github.io/df_whole.png\" width=\"900\">"
   ]
  },
  {
   "cell_type": "markdown",
   "metadata": {},
   "source": [
    "## Evaluatie\n",
    "\n",
    "**In hoeverre is er een significant verschil in spreektijd tussen mannen en vrouwen?**  \n",
    "Als de gemiddelde aantallen woorden van mannelijke en vrouwelijke politici naast elkaar worden gelegd is te zien dat vrouwelijke sprekers gemiddeld significant minder woorden gebruiken dan mannelijke sprekers. Dit geldt voor alle vier de periodes uit de dataset. Er is echter wel een trend te zien dat de verschillen tussen de mannelijke en vrouwelijke sprekers worden over de jaren. Echter, ook in de periode waar de verschillen het kleinst zijn (2015-2016) zeggen mannen gemiddeld 6,7% meer woorden. Dit is alsnog een significant verschil als een alfa van 5% word genomen. In de periode 2012-2013 zeiden mannen gemiddeld 49,4% meer, 49,8% meer in 2013-2014 en 20,9% meer in 2014-2015. Het gemiddelde van die vier kolommen is 25,4% meer woorden van de mannelijke sprekers.\n",
    "\n",
    "<img src=\"http://coen3000.github.io/verhouding.png\" width=\"500\"> "
   ]
  },
  {
   "cell_type": "markdown",
   "metadata": {},
   "source": [
    "**In hoeverre is er een significant verschil in het soort woorden tussen mannen en vrouwen?** \n",
    "\n",
    "Met behulp van de gesproken woorden is een wordcloud visualisatie gemaakt van zowel mannelijke als vrouwelijke politici. Hierbij is van elk woord eerst geteld hoe vaak deze voorkomt en vervolgens is hiervan met de wordcloud module voor bepaalde politici een wordcloud gemaakt. Om veel voorkomende woorden hieruit te filteren is een ‘nltk-corpus’ van stopwoorden gebruikt en als aanvulling ook nog een lijst met zelf gevonden ‘niet interessante’ woorden die in bij de meeste politici vaak voorkomen. Hierbij is gestopt met het invoeren van woorden tot bij de test politicus Wilders een eerste herkenbaar en interessant woord voorkwam, in dit geval ‘moslim’.  \n",
    "\n",
    "Wanneer we kijken naar het verschil in het soort woorden tussen drie van de grotere Nederlandse Politici, onder wie in dit geval Wilders, Pechtold, Segers als mannen en Van Tongeren, Van Veldhoven en Agema als vrouwen, dan is zoals in de onderstaande afbeeldingen te zien is nog geen sprake van een significant verschil zichtbaar. Het verder uitbreiden van deze lijst, of het filteren op andere bekende en uitgewerkte corpora zou meer interessante inzichten kunnen bieden. \n",
    "\n"
   ]
  },
  {
   "cell_type": "markdown",
   "metadata": {},
   "source": [
    "<img src=\"http://coen3000.github.io/wordcloudM.jpg\" width=\"900\"> \n",
    "<img src=\"http://coen3000.github.io/wordcloudV.jpg\" width=\"900\"> "
   ]
  },
  {
   "cell_type": "markdown",
   "metadata": {},
   "source": [
    "## Conclusie\n",
    "*Hoofdvraag: In hoeverre verschillen mannen en vrouwen in woordgebruik binnen de Nederlandse politiek?*\n",
    "\n",
    "*In hoeverre is er een significant verschil in spreektijd tussen mannen en vrouwen?*  \n",
    "Uit ons onderzoek blijkt duidelijk dat de mannelijke politici gemiddeld significant meer spreektijd (gemiddeld aantal gesproken woorden) hebben dan vrouwelijke politici. In elk van de vier periodes hadden mannen significant meer spreektijd, wat niet strookt met de bevindingen van Mehl et al. Er was echter wel een trend waar te nemen dat het verschil de laatste twee periodes afnam. \n",
    "\n",
    "*In hoeverre is er een significant verschil in het soort woorden tussen mannen en vrouwen?*  \n",
    "Wat woordgebruik betreft konden we geen significant verschil vinden tussen mannen en vrouwen, dit antwoord is echter niet helemaal zeker. Er kan uiteindelijk geconcludeerd worden dat vrouwelijke politici in de Tweede Kamer gemiddeld significant minder spreektijd krijgen maar maar niet echt significant andere woorden gebruiken dan de mannelijke politici.\n"
   ]
  },
  {
   "cell_type": "markdown",
   "metadata": {},
   "source": [
    "## Literatuur\n",
    "<a href=\"https://www.binnenlandsbestuur.nl/ambtenaar-en-carriere/nieuws/aantal-vrouwen-in-politiek-stagneert.9479021.lynkx\">[1]</a> Walstra. (2015). Aantal vrouwen in politiek stagneert. Verkregen op 03-04-18, van https://www.binnenlandsbestuur.nl/ambtenaar-en-carriere/nieuws/aantal-vrouwen-in-politiek-stagneert.9479021.lynkx  \n",
    "\n",
    "<a href=\"https://evajinek.kro-ncrv.nl/artikelen/deze-kamerleden-zijn-heel-actief-en-deze-leunen-vooral-achterover\">[2]</a>Jinek, E. (2017). Deze Kamerleden zijn heel actief (en deze leunen vooral achterover). Verkregen op 05-04-18 van https://evajinek.kro-ncrv.nl/artikelen/deze-kamerleden-zijn-heel-actief-en-deze-leunen-vooral-achterover   \n",
    "\n",
    " <a href=\"http://science.sciencemag.org/content/sci/suppl/2007/07/03/317.5834.82.DC1/Mehl.SOM.pdf\">[3]</a> Mehl, M. R., Vazire, S., Ramírez-Esparza, N., Slatcher, R. B., & Pennebaker, J. W. (2007). Are women really more talkative than men? Science, 317(5834), 82. Verkregen op 05-04-18, van http://science.sciencemag.org/content/sci/suppl/2007/07/03/317.5834.82.DC1/Mehl.SOM.pdf  \n",
    "\n",
    "<a href=\"https://onlinelibrary.wiley.com/doi/full/10.1111/j.1468-2958.2001.tb00778.x\">[4]</a> Mulac, A., Bradac, J. J., & Gibbons, P. (2001). Empirical support for the gender-as-culture hypothesis: An intercultural analysis of male/female language differences. Human Communication Research, 27(1), 121-152. Verkregen op 05-04-18, van https://onlinelibrary.wiley.com/doi/full/10.1111/j.1468-2958.2001.tb00778.x  \n",
    "\n",
    "<a href=\"https://www.parlement.com/id/vh8lnhrre0zv/vrouwen_in_de_tweede_kamer \"> [5]</a> NDC. Vrouwen in de Tweede Kamer. (2018). Verkregen op 04-04-2018, van https://www.parlement.com/id/vh8lnhrre0zv/vrouwen_in_de_tweede_kamer   \n",
    "\n",
    "<a href=\"https://www.atria.nl/nl/publicatie/vrouwenkiesrecht-nederland\">[6]</a>Vrouwenkiesrecht in Nederland. (2016). Verkregen op 04-04-2018, van https://www.atria.nl/nl/publicatie/vrouwenkiesrecht-nederland  \n"
   ]
  },
  {
   "cell_type": "markdown",
   "metadata": {},
   "source": [
    "## Presentatie"
   ]
  },
  {
   "cell_type": "code",
   "execution_count": 1,
   "metadata": {},
   "outputs": [
    {
     "data": {
      "text/html": [
       "<iframe src=presentatie.ipynb width=900 height=500></iframe>"
      ],
      "text/plain": [
       "<IPython.core.display.HTML object>"
      ]
     },
     "execution_count": 1,
     "metadata": {},
     "output_type": "execute_result"
    }
   ],
   "source": [
    "from IPython.display import HTML\n",
    "HTML('<iframe src=presentatie.ipynb width=900 height=500></iframe>')"
   ]
  }
 ],
 "metadata": {
  "kernelspec": {
   "display_name": "Python 3",
   "language": "python",
   "name": "python3"
  },
  "language_info": {
   "codemirror_mode": {
    "name": "ipython",
    "version": 3
   },
   "file_extension": ".py",
   "mimetype": "text/x-python",
   "name": "python",
   "nbconvert_exporter": "python",
   "pygments_lexer": "ipython3",
   "version": "3.6.4"
  }
 },
 "nbformat": 4,
 "nbformat_minor": 2
}
